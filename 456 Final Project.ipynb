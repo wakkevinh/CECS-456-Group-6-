{
 "cells": [
  {
   "cell_type": "code",
   "execution_count": null,
   "id": "711938d3",
   "metadata": {},
   "outputs": [],
   "source": []
  },
  {
   "cell_type": "code",
   "execution_count": null,
   "id": "b78a1c90",
   "metadata": {},
   "outputs": [],
   "source": [
    "# the following code will be needed for the final project\n",
    "# split data \n",
    "from sklearn.model_selection import train_test_split\n",
    "x_train, x_test, y_train, y_test = train_test_split(x, y, test_size=0.20）"
   ]
  },
  {
   "cell_type": "code",
   "execution_count": null,
   "id": "4a3e5add",
   "metadata": {},
   "outputs": [],
   "source": [
    "# see the shape of the data\n",
    "x_train.shape\n",
    "x_test.shape\n",
    "y_train.shape\n",
    "y_test.shape"
   ]
  },
  {
   "cell_type": "code",
   "execution_count": null,
   "id": "2b056562",
   "metadata": {},
   "outputs": [],
   "source": [
    "# implimenting  ML\n",
    "from sklearn.linear_model import LogisticRegression\n",
    "lo=LogisticRegression\n",
    "lo.fit(x_train, y_train)\n",
    "y_pred =lo.predict(x_test)"
   ]
  },
  {
   "cell_type": "code",
   "execution_count": null,
   "id": "1aff4365",
   "metadata": {},
   "outputs": [],
   "source": []
  }
 ],
 "metadata": {
  "kernelspec": {
   "display_name": "Python 3 (ipykernel)",
   "language": "python",
   "name": "python3"
  },
  "language_info": {
   "codemirror_mode": {
    "name": "ipython",
    "version": 3
   },
   "file_extension": ".py",
   "mimetype": "text/x-python",
   "name": "python",
   "nbconvert_exporter": "python",
   "pygments_lexer": "ipython3",
   "version": "3.10.9"
  }
 },
 "nbformat": 4,
 "nbformat_minor": 5
}
